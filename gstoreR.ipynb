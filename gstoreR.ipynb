{
 "cells": [
  {
   "cell_type": "markdown",
   "metadata": {},
   "source": [
    "# Google Analytics Customer Revenue Prediction "
   ]
  },
  {
   "cell_type": "markdown",
   "metadata": {},
   "source": [
    "1. Read csv data into R"
   ]
  },
  {
   "cell_type": "code",
   "execution_count": 20,
   "metadata": {},
   "outputs": [],
   "source": [
    "options(scipen=999)\n",
    "library(jsonlite)"
   ]
  },
  {
   "cell_type": "code",
   "execution_count": 21,
   "metadata": {},
   "outputs": [],
   "source": [
    "test_data <- read.csv('test.csv', stringsAsFactors = FALSE)\n",
    "train_data <- read.csv('train.csv', stringsAsFactors = FALSE)\n",
    "sample_submission <- read.csv('sample_submission.csv', stringsAsFactors = FALSE)"
   ]
  },
  {
   "cell_type": "code",
   "execution_count": 28,
   "metadata": {},
   "outputs": [
    {
     "data": {
      "text/html": [
       "<ol class=list-inline>\n",
       "\t<li>'channelGrouping'</li>\n",
       "\t<li>'date'</li>\n",
       "\t<li>'device'</li>\n",
       "\t<li>'fullVisitorId'</li>\n",
       "\t<li>'geoNetwork'</li>\n",
       "\t<li>'sessionId'</li>\n",
       "\t<li>'socialEngagementType'</li>\n",
       "\t<li>'totals'</li>\n",
       "\t<li>'trafficSource'</li>\n",
       "\t<li>'visitId'</li>\n",
       "\t<li>'visitNumber'</li>\n",
       "\t<li>'visitStartTime'</li>\n",
       "</ol>\n"
      ],
      "text/latex": [
       "\\begin{enumerate*}\n",
       "\\item 'channelGrouping'\n",
       "\\item 'date'\n",
       "\\item 'device'\n",
       "\\item 'fullVisitorId'\n",
       "\\item 'geoNetwork'\n",
       "\\item 'sessionId'\n",
       "\\item 'socialEngagementType'\n",
       "\\item 'totals'\n",
       "\\item 'trafficSource'\n",
       "\\item 'visitId'\n",
       "\\item 'visitNumber'\n",
       "\\item 'visitStartTime'\n",
       "\\end{enumerate*}\n"
      ],
      "text/markdown": [
       "1. 'channelGrouping'\n",
       "2. 'date'\n",
       "3. 'device'\n",
       "4. 'fullVisitorId'\n",
       "5. 'geoNetwork'\n",
       "6. 'sessionId'\n",
       "7. 'socialEngagementType'\n",
       "8. 'totals'\n",
       "9. 'trafficSource'\n",
       "10. 'visitId'\n",
       "11. 'visitNumber'\n",
       "12. 'visitStartTime'\n",
       "\n",
       "\n"
      ],
      "text/plain": [
       " [1] \"channelGrouping\"      \"date\"                 \"device\"              \n",
       " [4] \"fullVisitorId\"        \"geoNetwork\"           \"sessionId\"           \n",
       " [7] \"socialEngagementType\" \"totals\"               \"trafficSource\"       \n",
       "[10] \"visitId\"              \"visitNumber\"          \"visitStartTime\"      "
      ]
     },
     "metadata": {},
     "output_type": "display_data"
    }
   ],
   "source": [
    "train01 <- read.csv(\"train.csv\",header=TRUE,stringsAsFactors=FALSE,allowEscapes = FALSE,nrows=100,colClasses=c(\"character\",\"integer\",\"character\",\"character\",\"character\",\"character\",\"character\",\"character\",\"character\",\"character\",\"numeric\", \"numeric\"))\n",
    "\n",
    "\n",
    "colnames(train01)\n"
   ]
  },
  {
   "cell_type": "code",
   "execution_count": 29,
   "metadata": {},
   "outputs": [],
   "source": [
    "j_list<-colnames(train01)[c(3,5,8,9)]"
   ]
  },
  {
   "cell_type": "code",
   "execution_count": 30,
   "metadata": {},
   "outputs": [
    {
     "data": {
      "text/html": [
       "<ol class=list-inline>\n",
       "\t<li>'channelGrouping'</li>\n",
       "\t<li>'date'</li>\n",
       "\t<li>'fullVisitorId'</li>\n",
       "\t<li>'sessionId'</li>\n",
       "\t<li>'socialEngagementType'</li>\n",
       "\t<li>'visitId'</li>\n",
       "\t<li>'visitNumber'</li>\n",
       "\t<li>'visitStartTime'</li>\n",
       "</ol>\n"
      ],
      "text/latex": [
       "\\begin{enumerate*}\n",
       "\\item 'channelGrouping'\n",
       "\\item 'date'\n",
       "\\item 'fullVisitorId'\n",
       "\\item 'sessionId'\n",
       "\\item 'socialEngagementType'\n",
       "\\item 'visitId'\n",
       "\\item 'visitNumber'\n",
       "\\item 'visitStartTime'\n",
       "\\end{enumerate*}\n"
      ],
      "text/markdown": [
       "1. 'channelGrouping'\n",
       "2. 'date'\n",
       "3. 'fullVisitorId'\n",
       "4. 'sessionId'\n",
       "5. 'socialEngagementType'\n",
       "6. 'visitId'\n",
       "7. 'visitNumber'\n",
       "8. 'visitStartTime'\n",
       "\n",
       "\n"
      ],
      "text/plain": [
       "[1] \"channelGrouping\"      \"date\"                 \"fullVisitorId\"       \n",
       "[4] \"sessionId\"            \"socialEngagementType\" \"visitId\"             \n",
       "[7] \"visitNumber\"          \"visitStartTime\"      "
      ]
     },
     "metadata": {},
     "output_type": "display_data"
    }
   ],
   "source": [
    "train01_0<-train01[,-c(3,5,8,9)] # non-json data\n",
    "colnames(train01_0) # non-json data"
   ]
  },
  {
   "cell_type": "code",
   "execution_count": 31,
   "metadata": {},
   "outputs": [
    {
     "data": {
      "text/html": [
       "8"
      ],
      "text/latex": [
       "8"
      ],
      "text/markdown": [
       "8"
      ],
      "text/plain": [
       "[1] 8"
      ]
     },
     "metadata": {},
     "output_type": "display_data"
    }
   ],
   "source": [
    "length(train01_0)"
   ]
  },
  {
   "cell_type": "code",
   "execution_count": 32,
   "metadata": {},
   "outputs": [
    {
     "name": "stdout",
     "output_type": "stream",
     "text": [
      " [1] \"device_browser\"                   \"device_browserVersion\"           \n",
      " [3] \"device_browserSize\"               \"device_operatingSystem\"          \n",
      " [5] \"device_operatingSystemVersion\"    \"device_isMobile\"                 \n",
      " [7] \"device_mobileDeviceBranding\"      \"device_mobileDeviceModel\"        \n",
      " [9] \"device_mobileInputSelector\"       \"device_mobileDeviceInfo\"         \n",
      "[11] \"device_mobileDeviceMarketingName\" \"device_flashVersion\"             \n",
      "[13] \"device_language\"                  \"device_screenColors\"             \n",
      "[15] \"device_screenResolution\"          \"device_deviceCategory\"           \n",
      " [1] \"device_browser\"                   \"device_browserVersion\"           \n",
      " [3] \"device_browserSize\"               \"device_operatingSystem\"          \n",
      " [5] \"device_operatingSystemVersion\"    \"device_isMobile\"                 \n",
      " [7] \"device_mobileDeviceBranding\"      \"device_mobileDeviceModel\"        \n",
      " [9] \"device_mobileInputSelector\"       \"device_mobileDeviceInfo\"         \n",
      "[11] \"device_mobileDeviceMarketingName\" \"device_flashVersion\"             \n",
      "[13] \"device_language\"                  \"device_screenColors\"             \n",
      "[15] \"device_screenResolution\"          \"device_deviceCategory\"           \n",
      "[17] \"geoNetwork_continent\"             \"geoNetwork_subContinent\"         \n",
      "[19] \"geoNetwork_country\"               \"geoNetwork_region\"               \n",
      "[21] \"geoNetwork_metro\"                 \"geoNetwork_city\"                 \n",
      "[23] \"geoNetwork_cityId\"                \"geoNetwork_networkDomain\"        \n",
      "[25] \"geoNetwork_latitude\"              \"geoNetwork_longitude\"            \n",
      "[27] \"geoNetwork_networkLocation\"      \n"
     ]
    },
    {
     "name": "stderr",
     "output_type": "stream",
     "text": [
      "Warning message in (function (..., deparse.level = 1) :\n",
      "“number of columns of result is not a multiple of vector length (arg 5)”"
     ]
    },
    {
     "name": "stdout",
     "output_type": "stream",
     "text": [
      " [1] \"device_browser\"                   \"device_browserVersion\"           \n",
      " [3] \"device_browserSize\"               \"device_operatingSystem\"          \n",
      " [5] \"device_operatingSystemVersion\"    \"device_isMobile\"                 \n",
      " [7] \"device_mobileDeviceBranding\"      \"device_mobileDeviceModel\"        \n",
      " [9] \"device_mobileInputSelector\"       \"device_mobileDeviceInfo\"         \n",
      "[11] \"device_mobileDeviceMarketingName\" \"device_flashVersion\"             \n",
      "[13] \"device_language\"                  \"device_screenColors\"             \n",
      "[15] \"device_screenResolution\"          \"device_deviceCategory\"           \n",
      "[17] \"geoNetwork_continent\"             \"geoNetwork_subContinent\"         \n",
      "[19] \"geoNetwork_country\"               \"geoNetwork_region\"               \n",
      "[21] \"geoNetwork_metro\"                 \"geoNetwork_city\"                 \n",
      "[23] \"geoNetwork_cityId\"                \"geoNetwork_networkDomain\"        \n",
      "[25] \"geoNetwork_latitude\"              \"geoNetwork_longitude\"            \n",
      "[27] \"geoNetwork_networkLocation\"       \"totals_visits\"                   \n",
      "[29] \"totals_hits\"                      \"totals_pageviews\"                \n",
      "[31] \"totals_bounces\"                   \"totals_newVisits\"                \n"
     ]
    },
    {
     "name": "stderr",
     "output_type": "stream",
     "text": [
      "Warning message in (function (..., deparse.level = 1) :\n",
      "“number of columns of result is not a multiple of vector length (arg 1)”"
     ]
    },
    {
     "name": "stdout",
     "output_type": "stream",
     "text": [
      " [1] \"device_browser\"                                   \n",
      " [2] \"device_browserVersion\"                            \n",
      " [3] \"device_browserSize\"                               \n",
      " [4] \"device_operatingSystem\"                           \n",
      " [5] \"device_operatingSystemVersion\"                    \n",
      " [6] \"device_isMobile\"                                  \n",
      " [7] \"device_mobileDeviceBranding\"                      \n",
      " [8] \"device_mobileDeviceModel\"                         \n",
      " [9] \"device_mobileInputSelector\"                       \n",
      "[10] \"device_mobileDeviceInfo\"                          \n",
      "[11] \"device_mobileDeviceMarketingName\"                 \n",
      "[12] \"device_flashVersion\"                              \n",
      "[13] \"device_language\"                                  \n",
      "[14] \"device_screenColors\"                              \n",
      "[15] \"device_screenResolution\"                          \n",
      "[16] \"device_deviceCategory\"                            \n",
      "[17] \"geoNetwork_continent\"                             \n",
      "[18] \"geoNetwork_subContinent\"                          \n",
      "[19] \"geoNetwork_country\"                               \n",
      "[20] \"geoNetwork_region\"                                \n",
      "[21] \"geoNetwork_metro\"                                 \n",
      "[22] \"geoNetwork_city\"                                  \n",
      "[23] \"geoNetwork_cityId\"                                \n",
      "[24] \"geoNetwork_networkDomain\"                         \n",
      "[25] \"geoNetwork_latitude\"                              \n",
      "[26] \"geoNetwork_longitude\"                             \n",
      "[27] \"geoNetwork_networkLocation\"                       \n",
      "[28] \"totals_visits\"                                    \n",
      "[29] \"totals_hits\"                                      \n",
      "[30] \"totals_pageviews\"                                 \n",
      "[31] \"totals_bounces\"                                   \n",
      "[32] \"totals_newVisits\"                                 \n",
      "[33] \"trafficSource_campaign\"                           \n",
      "[34] \"trafficSource_source\"                             \n",
      "[35] \"trafficSource_medium\"                             \n",
      "[36] \"trafficSource_keyword\"                            \n",
      "[37] \"trafficSource_adwordsClickInfo.criteriaParameters\"\n",
      "[38] \"trafficSource_isTrueDirect\"                       \n"
     ]
    }
   ],
   "source": [
    "train01_1<-c()\n",
    "for (i in j_list) {\n",
    "train01_2<-do.call(rbind, \n",
    "          lapply(train01[,i], \n",
    "                  function(j) as.list(unlist(fromJSON(j, flatten=TRUE)))\n",
    "        )       )\n",
    "colnames(train01_2)<-paste0(i,'_',colnames(train01_2))\n",
    "train01_1<-cbind(train01_1,train01_2)\n",
    "print(colnames(train01_1))\n",
    "}"
   ]
  },
  {
   "cell_type": "code",
   "execution_count": 33,
   "metadata": {},
   "outputs": [
    {
     "data": {
      "text/html": [
       "100"
      ],
      "text/latex": [
       "100"
      ],
      "text/markdown": [
       "100"
      ],
      "text/plain": [
       "[1] 100"
      ]
     },
     "metadata": {},
     "output_type": "display_data"
    }
   ],
   "source": [
    "nrow(train01_1)"
   ]
  },
  {
   "cell_type": "code",
   "execution_count": 34,
   "metadata": {},
   "outputs": [
    {
     "data": {
      "text/html": [
       "100"
      ],
      "text/latex": [
       "100"
      ],
      "text/markdown": [
       "100"
      ],
      "text/plain": [
       "[1] 100"
      ]
     },
     "metadata": {},
     "output_type": "display_data"
    }
   ],
   "source": [
    "nrow(train01_0)"
   ]
  },
  {
   "cell_type": "code",
   "execution_count": 35,
   "metadata": {},
   "outputs": [
    {
     "data": {
      "text/html": [
       "<table>\n",
       "<thead><tr><th scope=col>channelGrouping</th><th scope=col>date</th><th scope=col>fullVisitorId</th><th scope=col>sessionId</th><th scope=col>socialEngagementType</th><th scope=col>visitId</th><th scope=col>visitNumber</th><th scope=col>visitStartTime</th><th scope=col>device_browser</th><th scope=col>device_browserVersion</th><th scope=col>⋯</th><th scope=col>totals_hits</th><th scope=col>totals_pageviews</th><th scope=col>totals_bounces</th><th scope=col>totals_newVisits</th><th scope=col>trafficSource_campaign</th><th scope=col>trafficSource_source</th><th scope=col>trafficSource_medium</th><th scope=col>trafficSource_keyword</th><th scope=col>trafficSource_adwordsClickInfo.criteriaParameters</th><th scope=col>trafficSource_isTrueDirect</th></tr></thead>\n",
       "<tbody>\n",
       "\t<tr><td>Organic Search                </td><td>20160902                      </td><td>1131660440785968503           </td><td>1131660440785968503_1472830385</td><td>Not Socially Engaged          </td><td>1472830385                    </td><td>1                             </td><td>1472830385                    </td><td>Chrome                        </td><td>not available in demo dataset </td><td>⋯                             </td><td>1                             </td><td>1                             </td><td>1                             </td><td>1                             </td><td>(not set)                     </td><td>google                        </td><td>organic                       </td><td>(not provided)                </td><td>not available in demo dataset </td><td>(not set)                     </td></tr>\n",
       "</tbody>\n",
       "</table>\n"
      ],
      "text/latex": [
       "\\begin{tabular}{r|llllllllllllllllllllllllllllllllllllllllllllll}\n",
       " channelGrouping & date & fullVisitorId & sessionId & socialEngagementType & visitId & visitNumber & visitStartTime & device\\_browser & device\\_browserVersion & ⋯ & totals\\_hits & totals\\_pageviews & totals\\_bounces & totals\\_newVisits & trafficSource\\_campaign & trafficSource\\_source & trafficSource\\_medium & trafficSource\\_keyword & trafficSource\\_adwordsClickInfo.criteriaParameters & trafficSource\\_isTrueDirect\\\\\n",
       "\\hline\n",
       "\t Organic Search                   & 20160902                         & 1131660440785968503              & 1131660440785968503\\_1472830385 & Not Socially Engaged             & 1472830385                       & 1                                & 1472830385                       & Chrome                           & not available in demo dataset    & ⋯                                & 1                                & 1                                & 1                                & 1                                & (not set)                        & google                           & organic                          & (not provided)                   & not available in demo dataset    & (not set)                       \\\\\n",
       "\\end{tabular}\n"
      ],
      "text/markdown": [
       "\n",
       "channelGrouping | date | fullVisitorId | sessionId | socialEngagementType | visitId | visitNumber | visitStartTime | device_browser | device_browserVersion | ⋯ | totals_hits | totals_pageviews | totals_bounces | totals_newVisits | trafficSource_campaign | trafficSource_source | trafficSource_medium | trafficSource_keyword | trafficSource_adwordsClickInfo.criteriaParameters | trafficSource_isTrueDirect | \n",
       "|---|\n",
       "| Organic Search                 | 20160902                       | 1131660440785968503            | 1131660440785968503_1472830385 | Not Socially Engaged           | 1472830385                     | 1                              | 1472830385                     | Chrome                         | not available in demo dataset  | ⋯                              | 1                              | 1                              | 1                              | 1                              | (not set)                      | google                         | organic                        | (not provided)                 | not available in demo dataset  | (not set)                      | \n",
       "\n",
       "\n"
      ],
      "text/plain": [
       "  channelGrouping date     fullVisitorId       sessionId                     \n",
       "1 Organic Search  20160902 1131660440785968503 1131660440785968503_1472830385\n",
       "  socialEngagementType visitId    visitNumber visitStartTime device_browser\n",
       "1 Not Socially Engaged 1472830385 1           1472830385     Chrome        \n",
       "  device_browserVersion         ⋯ totals_hits totals_pageviews totals_bounces\n",
       "1 not available in demo dataset ⋯ 1           1                1             \n",
       "  totals_newVisits trafficSource_campaign trafficSource_source\n",
       "1 1                (not set)              google              \n",
       "  trafficSource_medium trafficSource_keyword\n",
       "1 organic              (not provided)       \n",
       "  trafficSource_adwordsClickInfo.criteriaParameters trafficSource_isTrueDirect\n",
       "1 not available in demo dataset                     (not set)                 "
      ]
     },
     "metadata": {},
     "output_type": "display_data"
    }
   ],
   "source": [
    "train01_1<-as.data.frame(train01_1)\n",
    "\n",
    "train02<-cbind.data.frame(train01_0,train01_1)  #combine two data.frame\n",
    "train02[1,]"
   ]
  },
  {
   "cell_type": "code",
   "execution_count": 36,
   "metadata": {},
   "outputs": [
    {
     "data": {
      "text/html": [
       "<ol class=list-inline>\n",
       "\t<li>'channelGrouping'</li>\n",
       "\t<li>'date'</li>\n",
       "\t<li>'fullVisitorId'</li>\n",
       "\t<li>'sessionId'</li>\n",
       "\t<li>'socialEngagementType'</li>\n",
       "\t<li>'visitId'</li>\n",
       "\t<li>'visitNumber'</li>\n",
       "\t<li>'visitStartTime'</li>\n",
       "\t<li>'device_browser'</li>\n",
       "\t<li>'device_browserVersion'</li>\n",
       "\t<li>'device_browserSize'</li>\n",
       "\t<li>'device_operatingSystem'</li>\n",
       "\t<li>'device_operatingSystemVersion'</li>\n",
       "\t<li>'device_isMobile'</li>\n",
       "\t<li>'device_mobileDeviceBranding'</li>\n",
       "\t<li>'device_mobileDeviceModel'</li>\n",
       "\t<li>'device_mobileInputSelector'</li>\n",
       "\t<li>'device_mobileDeviceInfo'</li>\n",
       "\t<li>'device_mobileDeviceMarketingName'</li>\n",
       "\t<li>'device_flashVersion'</li>\n",
       "\t<li>'device_language'</li>\n",
       "\t<li>'device_screenColors'</li>\n",
       "\t<li>'device_screenResolution'</li>\n",
       "\t<li>'device_deviceCategory'</li>\n",
       "\t<li>'geoNetwork_continent'</li>\n",
       "\t<li>'geoNetwork_subContinent'</li>\n",
       "\t<li>'geoNetwork_country'</li>\n",
       "\t<li>'geoNetwork_region'</li>\n",
       "\t<li>'geoNetwork_metro'</li>\n",
       "\t<li>'geoNetwork_city'</li>\n",
       "\t<li>'geoNetwork_cityId'</li>\n",
       "\t<li>'geoNetwork_networkDomain'</li>\n",
       "\t<li>'geoNetwork_latitude'</li>\n",
       "\t<li>'geoNetwork_longitude'</li>\n",
       "\t<li>'geoNetwork_networkLocation'</li>\n",
       "\t<li>'totals_visits'</li>\n",
       "\t<li>'totals_hits'</li>\n",
       "\t<li>'totals_pageviews'</li>\n",
       "\t<li>'totals_bounces'</li>\n",
       "\t<li>'totals_newVisits'</li>\n",
       "\t<li>'trafficSource_campaign'</li>\n",
       "\t<li>'trafficSource_source'</li>\n",
       "\t<li>'trafficSource_medium'</li>\n",
       "\t<li>'trafficSource_keyword'</li>\n",
       "\t<li>'trafficSource_adwordsClickInfo.criteriaParameters'</li>\n",
       "\t<li>'trafficSource_isTrueDirect'</li>\n",
       "</ol>\n"
      ],
      "text/latex": [
       "\\begin{enumerate*}\n",
       "\\item 'channelGrouping'\n",
       "\\item 'date'\n",
       "\\item 'fullVisitorId'\n",
       "\\item 'sessionId'\n",
       "\\item 'socialEngagementType'\n",
       "\\item 'visitId'\n",
       "\\item 'visitNumber'\n",
       "\\item 'visitStartTime'\n",
       "\\item 'device\\_browser'\n",
       "\\item 'device\\_browserVersion'\n",
       "\\item 'device\\_browserSize'\n",
       "\\item 'device\\_operatingSystem'\n",
       "\\item 'device\\_operatingSystemVersion'\n",
       "\\item 'device\\_isMobile'\n",
       "\\item 'device\\_mobileDeviceBranding'\n",
       "\\item 'device\\_mobileDeviceModel'\n",
       "\\item 'device\\_mobileInputSelector'\n",
       "\\item 'device\\_mobileDeviceInfo'\n",
       "\\item 'device\\_mobileDeviceMarketingName'\n",
       "\\item 'device\\_flashVersion'\n",
       "\\item 'device\\_language'\n",
       "\\item 'device\\_screenColors'\n",
       "\\item 'device\\_screenResolution'\n",
       "\\item 'device\\_deviceCategory'\n",
       "\\item 'geoNetwork\\_continent'\n",
       "\\item 'geoNetwork\\_subContinent'\n",
       "\\item 'geoNetwork\\_country'\n",
       "\\item 'geoNetwork\\_region'\n",
       "\\item 'geoNetwork\\_metro'\n",
       "\\item 'geoNetwork\\_city'\n",
       "\\item 'geoNetwork\\_cityId'\n",
       "\\item 'geoNetwork\\_networkDomain'\n",
       "\\item 'geoNetwork\\_latitude'\n",
       "\\item 'geoNetwork\\_longitude'\n",
       "\\item 'geoNetwork\\_networkLocation'\n",
       "\\item 'totals\\_visits'\n",
       "\\item 'totals\\_hits'\n",
       "\\item 'totals\\_pageviews'\n",
       "\\item 'totals\\_bounces'\n",
       "\\item 'totals\\_newVisits'\n",
       "\\item 'trafficSource\\_campaign'\n",
       "\\item 'trafficSource\\_source'\n",
       "\\item 'trafficSource\\_medium'\n",
       "\\item 'trafficSource\\_keyword'\n",
       "\\item 'trafficSource\\_adwordsClickInfo.criteriaParameters'\n",
       "\\item 'trafficSource\\_isTrueDirect'\n",
       "\\end{enumerate*}\n"
      ],
      "text/markdown": [
       "1. 'channelGrouping'\n",
       "2. 'date'\n",
       "3. 'fullVisitorId'\n",
       "4. 'sessionId'\n",
       "5. 'socialEngagementType'\n",
       "6. 'visitId'\n",
       "7. 'visitNumber'\n",
       "8. 'visitStartTime'\n",
       "9. 'device_browser'\n",
       "10. 'device_browserVersion'\n",
       "11. 'device_browserSize'\n",
       "12. 'device_operatingSystem'\n",
       "13. 'device_operatingSystemVersion'\n",
       "14. 'device_isMobile'\n",
       "15. 'device_mobileDeviceBranding'\n",
       "16. 'device_mobileDeviceModel'\n",
       "17. 'device_mobileInputSelector'\n",
       "18. 'device_mobileDeviceInfo'\n",
       "19. 'device_mobileDeviceMarketingName'\n",
       "20. 'device_flashVersion'\n",
       "21. 'device_language'\n",
       "22. 'device_screenColors'\n",
       "23. 'device_screenResolution'\n",
       "24. 'device_deviceCategory'\n",
       "25. 'geoNetwork_continent'\n",
       "26. 'geoNetwork_subContinent'\n",
       "27. 'geoNetwork_country'\n",
       "28. 'geoNetwork_region'\n",
       "29. 'geoNetwork_metro'\n",
       "30. 'geoNetwork_city'\n",
       "31. 'geoNetwork_cityId'\n",
       "32. 'geoNetwork_networkDomain'\n",
       "33. 'geoNetwork_latitude'\n",
       "34. 'geoNetwork_longitude'\n",
       "35. 'geoNetwork_networkLocation'\n",
       "36. 'totals_visits'\n",
       "37. 'totals_hits'\n",
       "38. 'totals_pageviews'\n",
       "39. 'totals_bounces'\n",
       "40. 'totals_newVisits'\n",
       "41. 'trafficSource_campaign'\n",
       "42. 'trafficSource_source'\n",
       "43. 'trafficSource_medium'\n",
       "44. 'trafficSource_keyword'\n",
       "45. 'trafficSource_adwordsClickInfo.criteriaParameters'\n",
       "46. 'trafficSource_isTrueDirect'\n",
       "\n",
       "\n"
      ],
      "text/plain": [
       " [1] \"channelGrouping\"                                  \n",
       " [2] \"date\"                                             \n",
       " [3] \"fullVisitorId\"                                    \n",
       " [4] \"sessionId\"                                        \n",
       " [5] \"socialEngagementType\"                             \n",
       " [6] \"visitId\"                                          \n",
       " [7] \"visitNumber\"                                      \n",
       " [8] \"visitStartTime\"                                   \n",
       " [9] \"device_browser\"                                   \n",
       "[10] \"device_browserVersion\"                            \n",
       "[11] \"device_browserSize\"                               \n",
       "[12] \"device_operatingSystem\"                           \n",
       "[13] \"device_operatingSystemVersion\"                    \n",
       "[14] \"device_isMobile\"                                  \n",
       "[15] \"device_mobileDeviceBranding\"                      \n",
       "[16] \"device_mobileDeviceModel\"                         \n",
       "[17] \"device_mobileInputSelector\"                       \n",
       "[18] \"device_mobileDeviceInfo\"                          \n",
       "[19] \"device_mobileDeviceMarketingName\"                 \n",
       "[20] \"device_flashVersion\"                              \n",
       "[21] \"device_language\"                                  \n",
       "[22] \"device_screenColors\"                              \n",
       "[23] \"device_screenResolution\"                          \n",
       "[24] \"device_deviceCategory\"                            \n",
       "[25] \"geoNetwork_continent\"                             \n",
       "[26] \"geoNetwork_subContinent\"                          \n",
       "[27] \"geoNetwork_country\"                               \n",
       "[28] \"geoNetwork_region\"                                \n",
       "[29] \"geoNetwork_metro\"                                 \n",
       "[30] \"geoNetwork_city\"                                  \n",
       "[31] \"geoNetwork_cityId\"                                \n",
       "[32] \"geoNetwork_networkDomain\"                         \n",
       "[33] \"geoNetwork_latitude\"                              \n",
       "[34] \"geoNetwork_longitude\"                             \n",
       "[35] \"geoNetwork_networkLocation\"                       \n",
       "[36] \"totals_visits\"                                    \n",
       "[37] \"totals_hits\"                                      \n",
       "[38] \"totals_pageviews\"                                 \n",
       "[39] \"totals_bounces\"                                   \n",
       "[40] \"totals_newVisits\"                                 \n",
       "[41] \"trafficSource_campaign\"                           \n",
       "[42] \"trafficSource_source\"                             \n",
       "[43] \"trafficSource_medium\"                             \n",
       "[44] \"trafficSource_keyword\"                            \n",
       "[45] \"trafficSource_adwordsClickInfo.criteriaParameters\"\n",
       "[46] \"trafficSource_isTrueDirect\"                       "
      ]
     },
     "metadata": {},
     "output_type": "display_data"
    }
   ],
   "source": [
    "colnames(train02)"
   ]
  },
  {
   "cell_type": "code",
   "execution_count": null,
   "metadata": {},
   "outputs": [],
   "source": []
  }
 ],
 "metadata": {
  "kernelspec": {
   "display_name": "R",
   "language": "R",
   "name": "ir"
  },
  "language_info": {
   "codemirror_mode": "r",
   "file_extension": ".r",
   "mimetype": "text/x-r-source",
   "name": "R",
   "pygments_lexer": "r",
   "version": "3.5.1"
  }
 },
 "nbformat": 4,
 "nbformat_minor": 2
}
